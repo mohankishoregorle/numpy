{
  "nbformat": 4,
  "nbformat_minor": 0,
  "metadata": {
    "colab": {
      "provenance": [],
      "authorship_tag": "ABX9TyMKoWz444893iThE7qnijw2",
      "include_colab_link": true
    },
    "kernelspec": {
      "name": "python3",
      "display_name": "Python 3"
    },
    "language_info": {
      "name": "python"
    }
  },
  "cells": [
    {
      "cell_type": "markdown",
      "metadata": {
        "id": "view-in-github",
        "colab_type": "text"
      },
      "source": [
        "<a href=\"https://colab.research.google.com/github/mohankishoregorle/numpy/blob/main/mohan_numpy.ipynb\" target=\"_parent\"><img src=\"https://colab.research.google.com/assets/colab-badge.svg\" alt=\"Open In Colab\"/></a>"
      ]
    },
    {
      "cell_type": "code",
      "execution_count": 2,
      "metadata": {
        "colab": {
          "base_uri": "https://localhost:8080/"
        },
        "id": "rbFtn_lbaV_N",
        "outputId": "377e48c8-e19b-45f9-fd4e-e48379d764b7"
      },
      "outputs": [
        {
          "output_type": "stream",
          "name": "stdout",
          "text": [
            "Original Array:\n",
            " [[10 20 30]\n",
            " [40 50 60]\n",
            " [70 80 90]]\n",
            "Element at position (1,2): 60\n",
            "Slice of array (first 2 rows, all columns):\n",
            " [[10 20 30]\n",
            " [40 50 60]]\n",
            "Reshaped Array (1x9):\n",
            " [[10 20 30 40 50 60 70 80 90]]\n",
            "Array after adding 10:\n",
            " [[ 20  30  40]\n",
            " [ 50  60  70]\n",
            " [ 80  90 100]]\n",
            "Mean: 50.0\n",
            "Median: 50.0\n",
            "Standard Deviation: 25.81988897471611\n",
            "Sum: 450\n",
            "25th, 50th, 75th Percentiles: [30. 50. 70.]\n",
            "Correlation Matrix:\n",
            " [[1. 1. 1.]\n",
            " [1. 1. 1.]\n",
            " [1. 1. 1.]]\n"
          ]
        }
      ],
      "source": [
        "import numpy as np\n",
        "\n",
        "# 1. Data Manipulation\n",
        "\n",
        "# Create arrays\n",
        "data = np.array([[10, 20, 30], [40, 50, 60], [70, 80, 90]])\n",
        "print(\"Original Array:\\n\", data)\n",
        "\n",
        "# Indexing and Slicing\n",
        "print(\"Element at position (1,2):\", data[1, 2])\n",
        "print(\"Slice of array (first 2 rows, all columns):\\n\", data[:2, :])\n",
        "\n",
        "# Reshaping\n",
        "reshaped_data = data.reshape(1, 9)\n",
        "print(\"Reshaped Array (1x9):\\n\", reshaped_data)\n",
        "\n",
        "# Mathematical Operations\n",
        "added_data = data + 10\n",
        "print(\"Array after adding 10:\\n\", added_data)\n",
        "\n",
        "# 2. Data Aggregation\n",
        "\n",
        "# Summary statistics\n",
        "mean_val = np.mean(data)\n",
        "median_val = np.median(data)\n",
        "std_dev = np.std(data)\n",
        "sum_val = np.sum(data)\n",
        "\n",
        "print(\"Mean:\", mean_val)\n",
        "print(\"Median:\", median_val)\n",
        "print(\"Standard Deviation:\", std_dev)\n",
        "print(\"Sum:\", sum_val)\n",
        "\n",
        "# 3. Data Analysis using numpy\n",
        "\n",
        "# Percentiles\n",
        "percentiles = np.percentile(data, [25, 50, 75])\n",
        "print(\"25th, 50th, 75th Percentiles:\", percentiles)\n",
        "\n",
        "# Correlation\n",
        "corr_matrix = np.corrcoef(data.T)\n",
        "print(\"Correlation Matrix:\\n\", corr_matrix)\n"
      ]
    },
    {
      "cell_type": "markdown",
      "source": [
        "**4. Application in Data Science**\n",
        "\n",
        "**NumPy's Advantages Over Traditional Python Data Structures**\n",
        "\n",
        "**Performance:** NumPy’s array operations are implemented in C, making them significantly faster than native Python loops or list comprehensions.\n",
        "\n",
        "**Memory Efficiency:** NumPy arrays consume less memory compared to Python lists, thanks to their fixed-size type.\n",
        "\n",
        "**Vectorized Operations:** NumPy supports vectorized operations, which allows for efficient computation across entire arrays without explicit loops.\n",
        "\n",
        "**Real-World Examples**\n",
        "\n",
        "**Machine Learning:** NumPy is used to handle large datasets, perform matrix operations, and compute various metrics.\n",
        "\n",
        "**Financial Analysis:** It is used to analyze financial time series data, simulate financial models, and optimize trading strategies.\n",
        "\n",
        "**Scientific Research:** In research, NumPy handles large datasets from experiments and performs complex mathematical computations required for simulations and data analysis."
      ],
      "metadata": {
        "id": "dyiIOpV5arwc"
      }
    }
  ]
}